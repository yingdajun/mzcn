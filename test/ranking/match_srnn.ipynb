{
 "cells": [
  {
   "cell_type": "code",
   "execution_count": 1,
   "metadata": {
    "ExecuteTime": {
     "end_time": "2019-10-23T14:20:08.790870Z",
     "start_time": "2019-10-23T14:19:58.596074Z"
    },
    "scrolled": true
   },
   "outputs": [
    {
     "name": "stderr",
     "output_type": "stream",
     "text": [
      "C:\\Users\\Administrator\\Anaconda3\\lib\\requests\\__init__.py:80: RequestsDependencyWarning: urllib3 (1.25.11) or chardet (3.0.4) doesn't match a supported version!\n",
      "  RequestsDependencyWarning)\n"
     ]
    },
    {
     "name": "stdout",
     "output_type": "stream",
     "text": [
      "matchzoo version 1.0\n",
      "`ranking_task` initialized with metrics [normalized_discounted_cumulative_gain@3(0.0), normalized_discounted_cumulative_gain@5(0.0), mean_average_precision(0.0)]\n",
      "data loading ...\n",
      "data loaded as `train_pack_raw` `dev_pack_raw` `test_pack_raw`\n"
     ]
    }
   ],
   "source": [
    "%run init.ipynb"
   ]
  },
  {
   "cell_type": "code",
   "execution_count": 2,
   "metadata": {
    "ExecuteTime": {
     "end_time": "2019-10-23T14:10:06.000639Z",
     "start_time": "2019-10-23T14:10:05.995651Z"
    },
    "collapsed": true
   },
   "outputs": [],
   "source": [
    "preprocessor = mz.models.MatchSRNN.get_default_preprocessor()"
   ]
  },
  {
   "cell_type": "code",
   "execution_count": 3,
   "metadata": {
    "ExecuteTime": {
     "end_time": "2019-10-23T14:10:30.199968Z",
     "start_time": "2019-10-23T14:10:06.004631Z"
    },
    "scrolled": true
   },
   "outputs": [
    {
     "name": "stderr",
     "output_type": "stream",
     "text": [
      "Processing text_left with chain_transform of ChineseRemoveBlack => ChineseSimplified => ChineseEmotion => IsChinese => ChineseStopRemoval => ChineseTokenizeDemo => Tokenize => Lowercase => PuncRemoval:   0%| | 0/95 [00:00<?, ?it/s]Building prefix dict from the default dictionary ...\n",
      "Loading model from cache C:\\Users\\ADMINI~1\\AppData\\Local\\Temp\\jieba.cache\n",
      "Loading model cost 1.601 seconds.\n",
      "Prefix dict has been built successfully.\n",
      "Processing text_left with chain_transform of ChineseRemoveBlack => ChineseSimplified => ChineseEmotion => IsChinese => ChineseStopRemoval => ChineseTokenizeDemo => Tokenize => Lowercase => PuncRemoval: 100%|█| 95/95 [00:02<00:00, 44.83it/s]\n",
      "Processing text_right with chain_transform of ChineseRemoveBlack => ChineseSimplified => ChineseEmotion => IsChinese => ChineseStopRemoval => ChineseTokenizeDemo => Tokenize => Lowercase => PuncRemoval: 100%|█| 97/97 [00:00<00:00, 139.85it/s]\n",
      "Processing text_right with append: 100%|████████████████████████████████████████████| 97/97 [00:00<00:00, 48526.66it/s]\n",
      "Building FrequencyFilter from a datapack.: 100%|████████████████████████████████████| 97/97 [00:00<00:00, 32371.70it/s]\n",
      "Processing text_right with transform: 100%|█████████████████████████████████████████| 97/97 [00:00<00:00, 19419.00it/s]\n",
      "Processing text_left with extend: 100%|█████████████████████████████████████████████| 95/95 [00:00<00:00, 31719.38it/s]\n",
      "Processing text_right with extend: 100%|████████████████████████████████████████████| 97/97 [00:00<00:00, 16180.06it/s]\n",
      "Building Vocabulary from a datapack.: 100%|██████████████████████████████████████| 883/883 [00:00<00:00, 883907.02it/s]\n",
      "Processing text_left with chain_transform of ChineseRemoveBlack => ChineseSimplified => ChineseEmotion => IsChinese => ChineseStopRemoval => ChineseTokenizeDemo => Tokenize => Lowercase => PuncRemoval: 100%|█| 95/95 [00:00<00:00, 175.05it/s]\n",
      "Processing text_right with chain_transform of ChineseRemoveBlack => ChineseSimplified => ChineseEmotion => IsChinese => ChineseStopRemoval => ChineseTokenizeDemo => Tokenize => Lowercase => PuncRemoval: 100%|█| 97/97 [00:00<00:00, 200.11it/s]\n",
      "Processing text_right with transform: 100%|█████████████████████████████████████████| 97/97 [00:00<00:00, 97030.17it/s]\n",
      "Processing text_left with transform: 100%|██████████████████████████████████████████| 95/95 [00:00<00:00, 47548.79it/s]\n",
      "Processing text_right with transform: 100%|█████████████████████████████████████████| 97/97 [00:00<00:00, 96960.79it/s]\n",
      "Processing length_left with len: 100%|██████████████████████████████████████████████| 95/95 [00:00<00:00, 94354.46it/s]\n",
      "Processing length_right with len: 100%|█████████████████████████████████████████████| 97/97 [00:00<00:00, 48509.30it/s]\n",
      "Processing text_left with chain_transform of ChineseRemoveBlack => ChineseSimplified => ChineseEmotion => IsChinese => ChineseStopRemoval => ChineseTokenizeDemo => Tokenize => Lowercase => PuncRemoval: 100%|█| 49/49 [00:00<00:00, 207.75it/s]\n",
      "Processing text_right with chain_transform of ChineseRemoveBlack => ChineseSimplified => ChineseEmotion => IsChinese => ChineseStopRemoval => ChineseTokenizeDemo => Tokenize => Lowercase => PuncRemoval: 100%|█| 50/50 [00:00<00:00, 196.19it/s]\n",
      "Processing text_right with transform: 100%|█████████████████████████████████████████| 50/50 [00:00<00:00, 25088.55it/s]\n",
      "Processing text_left with transform: 100%|███████████████████████████████████████████| 49/49 [00:00<00:00, 9809.13it/s]\n",
      "Processing text_right with transform: 100%|█████████████████████████████████████████| 50/50 [00:00<00:00, 16669.20it/s]\n",
      "Processing length_left with len: 100%|██████████████████████████████████████████████| 49/49 [00:00<00:00, 24560.34it/s]\n",
      "Processing length_right with len: 100%|█████████████████████████████████████████████| 50/50 [00:00<00:00, 12534.53it/s]\n",
      "Processing text_left with chain_transform of ChineseRemoveBlack => ChineseSimplified => ChineseEmotion => IsChinese => ChineseStopRemoval => ChineseTokenizeDemo => Tokenize => Lowercase => PuncRemoval: 100%|█| 30/30 [00:00<00:00, 185.30it/s]\n",
      "Processing text_right with chain_transform of ChineseRemoveBlack => ChineseSimplified => ChineseEmotion => IsChinese => ChineseStopRemoval => ChineseTokenizeDemo => Tokenize => Lowercase => PuncRemoval: 100%|█| 30/30 [00:00<00:00, 194.92it/s]\n",
      "Processing text_right with transform: 100%|█████████████████████████████████████████| 30/30 [00:00<00:00, 30009.33it/s]\n",
      "Processing text_left with transform: 100%|███████████████████████████████████████████| 30/30 [00:00<00:00, 5004.54it/s]\n",
      "Processing text_right with transform: 100%|█████████████████████████████████████████| 30/30 [00:00<00:00, 29378.73it/s]\n",
      "Processing length_left with len: 100%|███████████████████████████████████████████████| 30/30 [00:00<00:00, 4998.77it/s]\n",
      "Processing length_right with len: 100%|█████████████████████████████████████████████| 30/30 [00:00<00:00, 15004.66it/s]\n"
     ]
    }
   ],
   "source": [
    "train_pack_processed = preprocessor.fit_transform(train_pack_raw)\n",
    "dev_pack_processed = preprocessor.transform(dev_pack_raw)\n",
    "test_pack_processed = preprocessor.transform(test_pack_raw)"
   ]
  },
  {
   "cell_type": "code",
   "execution_count": 4,
   "metadata": {
    "ExecuteTime": {
     "end_time": "2019-10-23T14:10:30.232878Z",
     "start_time": "2019-10-23T14:10:30.202958Z"
    }
   },
   "outputs": [
    {
     "data": {
      "text/plain": [
       "{'embedding_input_dim': 328,\n",
       " 'filter_unit': <mzcn.preprocessors.units.frequency_filter.FrequencyFilter at 0x1ae6483d588>,\n",
       " 'vocab_size': 328,\n",
       " 'vocab_unit': <mzcn.preprocessors.units.vocabulary.Vocabulary at 0x1ae723a3dd8>}"
      ]
     },
     "execution_count": 4,
     "metadata": {},
     "output_type": "execute_result"
    }
   ],
   "source": [
    "preprocessor.context"
   ]
  },
  {
   "cell_type": "code",
   "execution_count": 5,
   "metadata": {
    "ExecuteTime": {
     "end_time": "2019-10-23T14:10:38.899753Z",
     "start_time": "2019-10-23T14:10:30.236869Z"
    },
    "collapsed": true,
    "scrolled": true
   },
   "outputs": [],
   "source": [
    "# glove_embedding = mz.datasets.embeddings.load_glove_embedding(dimension=100)\n",
    "# term_index = preprocessor.context['vocab_unit'].state['term_index']\n",
    "# embedding_matrix = glove_embedding.build_matrix(term_index)\n",
    "# l2_norm = np.sqrt((embedding_matrix * embedding_matrix).sum(axis=1))\n",
    "# embedding_matrix = embedding_matrix / l2_norm[:, np.newaxis]"
   ]
  },
  {
   "cell_type": "code",
   "execution_count": 6,
   "metadata": {
    "ExecuteTime": {
     "end_time": "2019-10-23T14:10:38.901741Z",
     "start_time": "2019-10-23T14:09:48.855Z"
    },
    "collapsed": true
   },
   "outputs": [],
   "source": [
    "trainset = mz.dataloader.Dataset(\n",
    "    data_pack=train_pack_processed,\n",
    "    mode='pair',\n",
    "    num_dup=2,\n",
    "    num_neg=1\n",
    ")\n",
    "devset = mz.dataloader.Dataset(\n",
    "    data_pack=dev_pack_processed\n",
    ")"
   ]
  },
  {
   "cell_type": "code",
   "execution_count": 7,
   "metadata": {
    "ExecuteTime": {
     "end_time": "2019-10-23T14:10:38.904703Z",
     "start_time": "2019-10-23T14:09:48.860Z"
    },
    "collapsed": true
   },
   "outputs": [],
   "source": [
    "padding_callback = mz.models.MatchSRNN.get_default_padding_callback()\n",
    "\n",
    "trainloader = mz.dataloader.DataLoader(\n",
    "    dataset=trainset,\n",
    "    stage='train',\n",
    "    callback=padding_callback,\n",
    ")\n",
    "devloader = mz.dataloader.DataLoader(\n",
    "    dataset=devset,\n",
    "    stage='dev',\n",
    "    callback=padding_callback,\n",
    ")"
   ]
  },
  {
   "cell_type": "code",
   "execution_count": 8,
   "metadata": {
    "ExecuteTime": {
     "end_time": "2019-10-23T14:10:38.906698Z",
     "start_time": "2019-10-23T14:09:48.864Z"
    },
    "scrolled": true
   },
   "outputs": [
    {
     "name": "stdout",
     "output_type": "stream",
     "text": [
      "MatchSRNN(\n",
      "  (embedding): Embedding(328, 100, padding_idx=0)\n",
      "  (dropout): Dropout(p=0.2, inplace=False)\n",
      "  (matching_tensor): MatchingTensor()\n",
      "  (spatial_gru): SpatialGRU(\n",
      "    (_activation): Tanh()\n",
      "    (_recurrent_activation): Sigmoid()\n",
      "    (_wr): Linear(in_features=34, out_features=30, bias=True)\n",
      "    (_wz): Linear(in_features=34, out_features=40, bias=True)\n",
      "    (_w_ij): Linear(in_features=4, out_features=10, bias=True)\n",
      "    (_U): Linear(in_features=30, out_features=10, bias=False)\n",
      "  )\n",
      "  (out): Linear(in_features=10, out_features=1, bias=True)\n",
      ")\n",
      "Trainable params:  75611\n"
     ]
    }
   ],
   "source": [
    "model = mz.models.MatchSRNN()\n",
    "\n",
    "model.params['task'] = ranking_task\n",
    "# model.params['embedding'] = embedding_matrix #这里是当加载glove等模型时取消该行注释\n",
    "#设置embedding系数\n",
    "model.params[\"embedding_output_dim\"]=100\n",
    "model.params[\"embedding_input_dim\"]=preprocessor.context[\"embedding_input_dim\"]\n",
    "model.params['channels'] = 4\n",
    "model.params['units'] = 10\n",
    "model.params['dropout'] = 0.2\n",
    "model.params['direction'] = 'lt'\n",
    "\n",
    "model.build()\n",
    "\n",
    "print(model)\n",
    "print('Trainable params: ', sum(p.numel() for p in model.parameters() if p.requires_grad))"
   ]
  },
  {
   "cell_type": "code",
   "execution_count": 9,
   "metadata": {
    "ExecuteTime": {
     "end_time": "2019-10-23T14:10:38.909692Z",
     "start_time": "2019-10-23T14:09:48.867Z"
    },
    "collapsed": true
   },
   "outputs": [],
   "source": [
    "optimizer = torch.optim.Adadelta(model.parameters())\n",
    "\n",
    "trainer = mz.trainers.Trainer(\n",
    "    model=model,\n",
    "    optimizer=optimizer,\n",
    "    trainloader=trainloader,\n",
    "    validloader=devloader,\n",
    "    validate_interval=None,\n",
    "    epochs=10\n",
    ")"
   ]
  },
  {
   "cell_type": "code",
   "execution_count": 10,
   "metadata": {
    "ExecuteTime": {
     "end_time": "2019-10-23T14:10:38.911685Z",
     "start_time": "2019-10-23T14:09:48.872Z"
    },
    "scrolled": true
   },
   "outputs": [
    {
     "data": {
      "application/vnd.jupyter.widget-view+json": {
       "model_id": "3ffc1c57db7c4a61afcb2376a7631acb",
       "version_major": 2,
       "version_minor": 0
      },
      "text/plain": [
       "HBox(children=(IntProgress(value=0, max=1), HTML(value='')))"
      ]
     },
     "metadata": {},
     "output_type": "display_data"
    },
    {
     "name": "stdout",
     "output_type": "stream",
     "text": [
      "[Iter-1 Loss-0.939]:\n",
      "  Validation: normalized_discounted_cumulative_gain@3(0.0): 0.1538 - normalized_discounted_cumulative_gain@5(0.0): 0.1538 - mean_average_precision(0.0): 0.1538\n",
      "\n"
     ]
    },
    {
     "data": {
      "application/vnd.jupyter.widget-view+json": {
       "model_id": "196c0dd60b454105b79d778c435782f2",
       "version_major": 2,
       "version_minor": 0
      },
      "text/plain": [
       "HBox(children=(IntProgress(value=0, max=1), HTML(value='')))"
      ]
     },
     "metadata": {},
     "output_type": "display_data"
    },
    {
     "name": "stdout",
     "output_type": "stream",
     "text": [
      "[Iter-2 Loss-0.964]:\n",
      "  Validation: normalized_discounted_cumulative_gain@3(0.0): 0.1538 - normalized_discounted_cumulative_gain@5(0.0): 0.1538 - mean_average_precision(0.0): 0.1538\n",
      "\n"
     ]
    },
    {
     "data": {
      "application/vnd.jupyter.widget-view+json": {
       "model_id": "fdf204a1193b4c89accecde4fb17a5a5",
       "version_major": 2,
       "version_minor": 0
      },
      "text/plain": [
       "HBox(children=(IntProgress(value=0, max=1), HTML(value='')))"
      ]
     },
     "metadata": {},
     "output_type": "display_data"
    },
    {
     "name": "stdout",
     "output_type": "stream",
     "text": [
      "[Iter-3 Loss-0.925]:\n",
      "  Validation: normalized_discounted_cumulative_gain@3(0.0): 0.1538 - normalized_discounted_cumulative_gain@5(0.0): 0.1538 - mean_average_precision(0.0): 0.1538\n",
      "\n"
     ]
    },
    {
     "data": {
      "application/vnd.jupyter.widget-view+json": {
       "model_id": "18e4b13740a949a1b1dcd5e7c36024bc",
       "version_major": 2,
       "version_minor": 0
      },
      "text/plain": [
       "HBox(children=(IntProgress(value=0, max=1), HTML(value='')))"
      ]
     },
     "metadata": {},
     "output_type": "display_data"
    },
    {
     "name": "stdout",
     "output_type": "stream",
     "text": [
      "[Iter-4 Loss-1.012]:\n",
      "  Validation: normalized_discounted_cumulative_gain@3(0.0): 0.1538 - normalized_discounted_cumulative_gain@5(0.0): 0.1538 - mean_average_precision(0.0): 0.1538\n",
      "\n"
     ]
    },
    {
     "data": {
      "application/vnd.jupyter.widget-view+json": {
       "model_id": "dcbc4fb5583e4d119166af4190775219",
       "version_major": 2,
       "version_minor": 0
      },
      "text/plain": [
       "HBox(children=(IntProgress(value=0, max=1), HTML(value='')))"
      ]
     },
     "metadata": {},
     "output_type": "display_data"
    },
    {
     "name": "stdout",
     "output_type": "stream",
     "text": [
      "[Iter-5 Loss-0.944]:\n",
      "  Validation: normalized_discounted_cumulative_gain@3(0.0): 0.1538 - normalized_discounted_cumulative_gain@5(0.0): 0.1538 - mean_average_precision(0.0): 0.1538\n",
      "\n"
     ]
    },
    {
     "data": {
      "application/vnd.jupyter.widget-view+json": {
       "model_id": "d6ff415f48514f9081ef3d923546ec1f",
       "version_major": 2,
       "version_minor": 0
      },
      "text/plain": [
       "HBox(children=(IntProgress(value=0, max=1), HTML(value='')))"
      ]
     },
     "metadata": {},
     "output_type": "display_data"
    },
    {
     "name": "stdout",
     "output_type": "stream",
     "text": [
      "[Iter-6 Loss-0.958]:\n",
      "  Validation: normalized_discounted_cumulative_gain@3(0.0): 0.1538 - normalized_discounted_cumulative_gain@5(0.0): 0.1538 - mean_average_precision(0.0): 0.1538\n",
      "\n"
     ]
    },
    {
     "data": {
      "application/vnd.jupyter.widget-view+json": {
       "model_id": "5bf1106f38ef4f648e593f172c4614d9",
       "version_major": 2,
       "version_minor": 0
      },
      "text/plain": [
       "HBox(children=(IntProgress(value=0, max=1), HTML(value='')))"
      ]
     },
     "metadata": {},
     "output_type": "display_data"
    },
    {
     "name": "stdout",
     "output_type": "stream",
     "text": [
      "[Iter-7 Loss-0.945]:\n",
      "  Validation: normalized_discounted_cumulative_gain@3(0.0): 0.1538 - normalized_discounted_cumulative_gain@5(0.0): 0.1538 - mean_average_precision(0.0): 0.1538\n",
      "\n"
     ]
    },
    {
     "data": {
      "application/vnd.jupyter.widget-view+json": {
       "model_id": "b8abba96d9c941778c00d5db9782204e",
       "version_major": 2,
       "version_minor": 0
      },
      "text/plain": [
       "HBox(children=(IntProgress(value=0, max=1), HTML(value='')))"
      ]
     },
     "metadata": {},
     "output_type": "display_data"
    },
    {
     "name": "stdout",
     "output_type": "stream",
     "text": [
      "[Iter-8 Loss-0.887]:\n",
      "  Validation: normalized_discounted_cumulative_gain@3(0.0): 0.1538 - normalized_discounted_cumulative_gain@5(0.0): 0.1538 - mean_average_precision(0.0): 0.1538\n",
      "\n"
     ]
    },
    {
     "data": {
      "application/vnd.jupyter.widget-view+json": {
       "model_id": "36dee34708e7402f8f1c61cd85b267dd",
       "version_major": 2,
       "version_minor": 0
      },
      "text/plain": [
       "HBox(children=(IntProgress(value=0, max=1), HTML(value='')))"
      ]
     },
     "metadata": {},
     "output_type": "display_data"
    },
    {
     "name": "stdout",
     "output_type": "stream",
     "text": [
      "[Iter-9 Loss-0.898]:\n",
      "  Validation: normalized_discounted_cumulative_gain@3(0.0): 0.1538 - normalized_discounted_cumulative_gain@5(0.0): 0.1538 - mean_average_precision(0.0): 0.1538\n",
      "\n"
     ]
    },
    {
     "data": {
      "application/vnd.jupyter.widget-view+json": {
       "model_id": "633d45fe362c4f19b9239682a027d2c3",
       "version_major": 2,
       "version_minor": 0
      },
      "text/plain": [
       "HBox(children=(IntProgress(value=0, max=1), HTML(value='')))"
      ]
     },
     "metadata": {},
     "output_type": "display_data"
    },
    {
     "name": "stdout",
     "output_type": "stream",
     "text": [
      "[Iter-10 Loss-0.911]:\n",
      "  Validation: normalized_discounted_cumulative_gain@3(0.0): 0.1538 - normalized_discounted_cumulative_gain@5(0.0): 0.1538 - mean_average_precision(0.0): 0.1538\n",
      "\n",
      "Cost time: 6.505980014801025s\n"
     ]
    }
   ],
   "source": [
    "trainer.run()"
   ]
  },
  {
   "cell_type": "code",
   "execution_count": 11,
   "metadata": {},
   "outputs": [
    {
     "data": {
      "text/plain": [
       "842"
      ]
     },
     "execution_count": 11,
     "metadata": {},
     "output_type": "execute_result"
    }
   ],
   "source": [
    "import gc\n",
    "gc.collect()"
   ]
  },
  {
   "cell_type": "code",
   "execution_count": null,
   "metadata": {
    "collapsed": true
   },
   "outputs": [],
   "source": []
  }
 ],
 "metadata": {
  "file_extension": ".py",
  "kernelspec": {
   "display_name": "Python 3",
   "language": "python",
   "name": "python3"
  },
  "language_info": {
   "codemirror_mode": {
    "name": "ipython",
    "version": 3
   },
   "file_extension": ".py",
   "mimetype": "text/x-python",
   "name": "python",
   "nbconvert_exporter": "python",
   "pygments_lexer": "ipython3",
   "version": "3.6.3"
  },
  "mimetype": "text/x-python",
  "name": "python",
  "npconvert_exporter": "python",
  "pygments_lexer": "ipython3",
  "version": 3
 },
 "nbformat": 4,
 "nbformat_minor": 2
}
