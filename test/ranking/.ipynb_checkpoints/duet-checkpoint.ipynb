{
 "cells": [
  {
   "cell_type": "code",
   "execution_count": 1,
   "metadata": {
    "ExecuteTime": {
     "end_time": "2019-03-20T09:35:56.628130Z",
     "start_time": "2019-03-20T09:35:45.661384Z"
    }
   },
   "outputs": [
    {
     "name": "stderr",
     "output_type": "stream",
     "text": [
      "C:\\Users\\Administrator\\Anaconda3\\lib\\requests\\__init__.py:80: RequestsDependencyWarning: urllib3 (1.25.11) or chardet (3.0.4) doesn't match a supported version!\n",
      "  RequestsDependencyWarning)\n"
     ]
    },
    {
     "name": "stdout",
     "output_type": "stream",
     "text": [
      "matchzoo version 1.0.2\n",
      "`ranking_task` initialized with metrics [normalized_discounted_cumulative_gain@3(0.0), normalized_discounted_cumulative_gain@5(0.0), mean_average_precision(0.0)]\n",
      "data loading ...\n",
      "data loaded as `train_pack_raw` `dev_pack_raw` `test_pack_raw`\n",
      "停用表配置成功\n"
     ]
    }
   ],
   "source": [
    "%run init.ipynb"
   ]
  },
  {
   "cell_type": "code",
   "execution_count": 2,
   "metadata": {
    "ExecuteTime": {
     "end_time": "2019-03-20T09:35:56.633000Z",
     "start_time": "2019-03-20T09:35:56.630450Z"
    },
    "collapsed": true
   },
   "outputs": [],
   "source": [
    "preprocessor = mz.models.DUET.get_default_preprocessor(\n",
    "    filter_mode='df',\n",
    "    filter_low_freq=2,\n",
    "    truncated_mode='post',\n",
    "    truncated_length_left=10,\n",
    "    truncated_length_right=40,\n",
    "    ngram_size=3\n",
    ")"
   ]
  },
  {
   "cell_type": "code",
   "execution_count": 3,
   "metadata": {
    "ExecuteTime": {
     "end_time": "2019-03-20T09:36:06.249211Z",
     "start_time": "2019-03-20T09:35:56.634788Z"
    }
   },
   "outputs": [
    {
     "name": "stderr",
     "output_type": "stream",
     "text": [
      "Processing text_left with chain_transform of ChineseRemoveBlack => ChineseSimplified => ChineseEmotion => IsChinese => ChineseStopRemoval => ChineseTokenizeDemo => Tokenize => Lowercase => PuncRemoval:   0%| | 0/92 [00:00<?, ?it/s]Building prefix dict from the default dictionary ...\n",
      "Loading model from cache C:\\Users\\ADMINI~1\\AppData\\Local\\Temp\\jieba.cache\n",
      "Loading model cost 1.812 seconds.\n",
      "Prefix dict has been built succesfully.\n",
      "Processing text_left with chain_transform of ChineseRemoveBlack => ChineseSimplified => ChineseEmotion => IsChinese => ChineseStopRemoval => ChineseTokenizeDemo => Tokenize => Lowercase => PuncRemoval: 100%|█| 92/92 [00:02<00:00, 35.80it/s]\n",
      "Processing text_right with chain_transform of ChineseRemoveBlack => ChineseSimplified => ChineseEmotion => IsChinese => ChineseStopRemoval => ChineseTokenizeDemo => Tokenize => Lowercase => PuncRemoval: 100%|█| 98/98 [00:00<00:00, 146.79it/s]\n",
      "Processing text_right with append: 100%|████████████████████████████████████████████| 98/98 [00:00<00:00, 24510.54it/s]\n",
      "Building FrequencyFilter from a datapack.: 100%|████████████████████████████████████| 98/98 [00:00<00:00, 49097.20it/s]\n",
      "Processing text_right with transform: 100%|█████████████████████████████████████████| 98/98 [00:00<00:00, 32739.29it/s]\n",
      "Processing text_left with extend: 100%|█████████████████████████████████████████████| 92/92 [00:00<00:00, 45959.50it/s]\n",
      "Processing text_right with extend: 100%|████████████████████████████████████████████| 98/98 [00:00<00:00, 19590.21it/s]\n",
      "Building Vocabulary from a datapack.: 100%|██████████████████████████████████████| 727/727 [00:00<00:00, 726706.15it/s]\n",
      "Processing text_left with transform: 100%|██████████████████████████████████████████| 92/92 [00:00<00:00, 18427.70it/s]\n",
      "Processing text_right with transform: 100%|█████████████████████████████████████████| 98/98 [00:00<00:00, 24507.62it/s]\n",
      "Processing text_left with extend: 100%|█████████████████████████████████████████████| 92/92 [00:00<00:00, 46036.26it/s]\n",
      "Processing text_right with extend: 100%|████████████████████████████████████████████| 98/98 [00:00<00:00, 97867.09it/s]\n",
      "Building Vocabulary from a datapack.: 100%|██████████████████████████████████████| 727/727 [00:00<00:00, 363266.50it/s]\n",
      "Processing text_left with chain_transform of ChineseRemoveBlack => ChineseSimplified => ChineseEmotion => IsChinese => ChineseStopRemoval => ChineseTokenizeDemo => Tokenize => Lowercase => PuncRemoval: 100%|█| 92/92 [00:00<00:00, 153.93it/s]\n",
      "Processing text_right with chain_transform of ChineseRemoveBlack => ChineseSimplified => ChineseEmotion => IsChinese => ChineseStopRemoval => ChineseTokenizeDemo => Tokenize => Lowercase => PuncRemoval: 100%|█| 98/98 [00:00<00:00, 149.02it/s]\n",
      "Processing text_right with transform: 100%|█████████████████████████████████████████| 98/98 [00:00<00:00, 49009.39it/s]\n",
      "Processing text_left with transform: 100%|██████████████████████████████████████████| 92/92 [00:00<00:00, 46047.25it/s]\n",
      "Processing text_right with transform: 100%|█████████████████████████████████████████| 98/98 [00:00<00:00, 49021.08it/s]\n",
      "Processing text_left with transform: 100%|██████████████████████████████████████████| 92/92 [00:00<00:00, 30693.28it/s]\n",
      "Processing text_right with transform: 100%|█████████████████████████████████████████| 98/98 [00:00<00:00, 32656.06it/s]\n",
      "Processing length_left with len: 100%|██████████████████████████████████████████████| 92/92 [00:00<00:00, 91940.90it/s]\n",
      "Processing length_right with len: 100%|█████████████████████████████████████████████| 98/98 [00:00<00:00, 49056.19it/s]\n",
      "Processing text_left with chain_transform of ChineseRemoveBlack => ChineseSimplified => ChineseEmotion => IsChinese => ChineseStopRemoval => ChineseTokenizeDemo => Tokenize => Lowercase => PuncRemoval: 100%|█| 47/47 [00:00<00:00, 147.42it/s]\n",
      "Processing text_right with chain_transform of ChineseRemoveBlack => ChineseSimplified => ChineseEmotion => IsChinese => ChineseStopRemoval => ChineseTokenizeDemo => Tokenize => Lowercase => PuncRemoval: 100%|█| 49/49 [00:00<00:00, 144.63it/s]\n",
      "Processing text_right with transform: 100%|█████████████████████████████████████████| 49/49 [00:00<00:00, 49062.04it/s]\n",
      "Processing text_left with transform: 100%|██████████████████████████████████████████| 47/47 [00:00<00:00, 23532.56it/s]\n",
      "Processing text_right with transform: 100%|█████████████████████████████████████████| 49/49 [00:00<00:00, 24533.95it/s]\n",
      "Processing text_left with transform: 100%|███████████████████████████████████████████| 47/47 [00:00<00:00, 4703.71it/s]\n",
      "Processing text_right with transform: 100%|█████████████████████████████████████████| 49/49 [00:00<00:00, 24728.78it/s]\n",
      "Processing length_left with len: 100%|███████████████████████████████████████████████| 47/47 [00:00<00:00, 7835.15it/s]\n",
      "Processing length_right with len: 100%|█████████████████████████████████████████████| 49/49 [00:00<00:00, 49073.76it/s]\n",
      "Processing text_left with chain_transform of ChineseRemoveBlack => ChineseSimplified => ChineseEmotion => IsChinese => ChineseStopRemoval => ChineseTokenizeDemo => Tokenize => Lowercase => PuncRemoval: 100%|█| 30/30 [00:00<00:00, 131.65it/s]\n",
      "Processing text_right with chain_transform of ChineseRemoveBlack => ChineseSimplified => ChineseEmotion => IsChinese => ChineseStopRemoval => ChineseTokenizeDemo => Tokenize => Lowercase => PuncRemoval: 100%|█| 30/30 [00:00<00:00, 103.15it/s]\n",
      "Processing text_right with transform: 100%|█████████████████████████████████████████| 30/30 [00:00<00:00, 15013.62it/s]\n",
      "Processing text_left with transform: 100%|███████████████████████████████████████████| 30/30 [00:00<00:00, 3752.40it/s]\n",
      "Processing text_right with transform: 100%|██████████████████████████████████████████| 30/30 [00:00<00:00, 7505.91it/s]\n",
      "Processing text_left with transform: 100%|██████████████████████████████████████████| 30/30 [00:00<00:00, 30073.88it/s]\n",
      "Processing text_right with transform: 100%|██████████████████████████████████████████| 30/30 [00:00<00:00, 9999.93it/s]\n",
      "Processing length_left with len: 100%|██████████████████████████████████████████████| 30/30 [00:00<00:00, 30037.99it/s]\n",
      "Processing length_right with len: 100%|█████████████████████████████████████████████| 30/30 [00:00<00:00, 10003.91it/s]\n"
     ]
    }
   ],
   "source": [
    "train_pack_processed = preprocessor.fit_transform(train_pack_raw)\n",
    "dev_pack_processed = preprocessor.transform(dev_pack_raw)\n",
    "test_pack_processed = preprocessor.transform(test_pack_raw)"
   ]
  },
  {
   "cell_type": "code",
   "execution_count": 4,
   "metadata": {
    "ExecuteTime": {
     "end_time": "2019-03-20T09:36:06.262937Z",
     "start_time": "2019-03-20T09:36:06.253350Z"
    }
   },
   "outputs": [
    {
     "data": {
      "text/plain": [
       "{'embedding_input_dim': 204,\n",
       " 'filter_unit': <mzcn.preprocessors.units.frequency_filter.FrequencyFilter at 0x1884ff0bc88>,\n",
       " 'ngram_process_unit': <mzcn.preprocessors.units.ngram_letter.NgramLetter at 0x1885fc94d30>,\n",
       " 'ngram_vocab_size': 204,\n",
       " 'ngram_vocab_unit': <mzcn.preprocessors.units.vocabulary.Vocabulary at 0x188531cff60>,\n",
       " 'vocab_size': 204,\n",
       " 'vocab_unit': <mzcn.preprocessors.units.vocabulary.Vocabulary at 0x18860d744a8>}"
      ]
     },
     "execution_count": 4,
     "metadata": {},
     "output_type": "execute_result"
    }
   ],
   "source": [
    "preprocessor.context"
   ]
  },
  {
   "cell_type": "code",
   "execution_count": 5,
   "metadata": {
    "collapsed": true
   },
   "outputs": [],
   "source": [
    "triletter_callback = mz.dataloader.callbacks.Ngram(preprocessor, mode='sum')\n",
    "trainset = mz.dataloader.Dataset(\n",
    "    data_pack=train_pack_processed,\n",
    "    mode='pair',\n",
    "    num_dup=2,\n",
    "    num_neg=1,\n",
    "    callbacks=[triletter_callback]\n",
    ")\n",
    "devset = mz.dataloader.Dataset(\n",
    "    data_pack=dev_pack_processed,\n",
    "    callbacks=[triletter_callback]\n",
    ")"
   ]
  },
  {
   "cell_type": "code",
   "execution_count": 6,
   "metadata": {
    "collapsed": true
   },
   "outputs": [],
   "source": [
    "padding_callback = mz.models.DUET.get_default_padding_callback(\n",
    "    fixed_length_left=10,\n",
    "    fixed_length_right=40,\n",
    "    pad_word_value=0,\n",
    "    pad_word_mode='pre',\n",
    "    with_ngram=True\n",
    ")\n",
    "\n",
    "trainloader = mz.dataloader.DataLoader(\n",
    "    dataset=trainset,\n",
    "    stage='train',\n",
    "    callback=padding_callback,\n",
    ")\n",
    "devloader = mz.dataloader.DataLoader(\n",
    "    dataset=devset,\n",
    "    stage='dev',\n",
    "    callback=padding_callback,\n",
    ")"
   ]
  },
  {
   "cell_type": "code",
   "execution_count": 7,
   "metadata": {
    "ExecuteTime": {
     "end_time": "2019-03-20T09:36:06.413530Z",
     "start_time": "2019-03-20T09:36:06.267256Z"
    }
   },
   "outputs": [
    {
     "name": "stdout",
     "output_type": "stream",
     "text": [
      "DUET(\n",
      "  (lm_conv1d): Conv1d(40, 100, kernel_size=(1,), stride=(1,))\n",
      "  (lm_mlp): Sequential(\n",
      "    (0): Sequential(\n",
      "      (0): Linear(in_features=1000, out_features=100, bias=True)\n",
      "      (1): Tanh()\n",
      "    )\n",
      "    (1): Sequential(\n",
      "      (0): Linear(in_features=100, out_features=100, bias=True)\n",
      "      (1): Tanh()\n",
      "    )\n",
      "    (2): Sequential(\n",
      "      (0): Linear(in_features=100, out_features=100, bias=True)\n",
      "      (1): Tanh()\n",
      "    )\n",
      "  )\n",
      "  (lm_linear): Sequential(\n",
      "    (0): Linear(in_features=100, out_features=1, bias=True)\n",
      "    (1): ReLU()\n",
      "  )\n",
      "  (dm_conv_activation_func): ReLU()\n",
      "  (dm_conv_left): Conv1d(204, 100, kernel_size=(3,), stride=(1,))\n",
      "  (dm_mlp_left): Sequential(\n",
      "    (0): Linear(in_features=100, out_features=100, bias=True)\n",
      "    (1): ReLU()\n",
      "  )\n",
      "  (dm_conv1_right): Conv1d(204, 100, kernel_size=(3,), stride=(1,))\n",
      "  (dm_conv2_right): Conv1d(100, 100, kernel_size=(1,), stride=(1,))\n",
      "  (dm_mlp): Sequential(\n",
      "    (0): Sequential(\n",
      "      (0): Linear(in_features=900, out_features=100, bias=True)\n",
      "      (1): Tanh()\n",
      "    )\n",
      "    (1): Sequential(\n",
      "      (0): Linear(in_features=100, out_features=100, bias=True)\n",
      "      (1): Tanh()\n",
      "    )\n",
      "    (2): Sequential(\n",
      "      (0): Linear(in_features=100, out_features=100, bias=True)\n",
      "      (1): Tanh()\n",
      "    )\n",
      "  )\n",
      "  (dm_linear): Sequential(\n",
      "    (0): Linear(in_features=100, out_features=1, bias=True)\n",
      "    (1): ReLU()\n",
      "  )\n",
      "  (dropout): Dropout(p=0.2, inplace=False)\n",
      "  (out): Linear(in_features=1, out_features=1, bias=True)\n",
      ")\n",
      "Trainable params:  377704\n"
     ]
    }
   ],
   "source": [
    "model = mz.models.DUET()\n",
    "\n",
    "model.params['task'] = ranking_task\n",
    "model.params['left_length'] = 10\n",
    "model.params['right_length'] = 40\n",
    "model.params['lm_filters'] = 100\n",
    "model.params['mlp_num_layers'] = 2\n",
    "model.params['mlp_num_units'] = 100\n",
    "model.params['mlp_num_fan_out'] = 100\n",
    "model.params['mlp_activation_func'] = 'tanh'\n",
    "\n",
    "model.params['vocab_size'] = preprocessor.context['ngram_vocab_size']\n",
    "model.params['dm_conv_activation_func'] = 'relu'\n",
    "model.params['dm_filters'] = 100\n",
    "model.params['dm_kernel_size'] = 3\n",
    "model.params['dm_right_pool_size'] = 4\n",
    "model.params['dropout_rate'] = 0.2\n",
    "\n",
    "\n",
    "model.build()\n",
    "\n",
    "print(model)\n",
    "print('Trainable params: ', sum(p.numel() for p in model.parameters() if p.requires_grad))"
   ]
  },
  {
   "cell_type": "code",
   "execution_count": 8,
   "metadata": {
    "ExecuteTime": {
     "end_time": "2019-03-20T09:36:06.422264Z",
     "start_time": "2019-03-20T09:36:06.415605Z"
    },
    "collapsed": true
   },
   "outputs": [],
   "source": [
    "optimizer = torch.optim.Adadelta(model.parameters())\n",
    "\n",
    "trainer = mz.trainers.Trainer(\n",
    "    model=model,\n",
    "    optimizer=optimizer,\n",
    "    trainloader=trainloader,\n",
    "    validloader=devloader,\n",
    "    validate_interval=None,\n",
    "    epochs=5\n",
    ")"
   ]
  },
  {
   "cell_type": "code",
   "execution_count": 9,
   "metadata": {
    "ExecuteTime": {
     "end_time": "2019-03-20T09:37:59.341616Z",
     "start_time": "2019-03-20T09:36:06.425086Z"
    },
    "scrolled": false
   },
   "outputs": [
    {
     "data": {
      "application/vnd.jupyter.widget-view+json": {
       "model_id": "396142846d284d05932e5279031cee2f",
       "version_major": 2,
       "version_minor": 0
      },
      "text/plain": [
       "HBox(children=(IntProgress(value=0, max=1), HTML(value='')))"
      ]
     },
     "metadata": {},
     "output_type": "display_data"
    },
    {
     "name": "stdout",
     "output_type": "stream",
     "text": [
      "[Iter-1 Loss-1.000]:\n",
      "  Validation: normalized_discounted_cumulative_gain@3(0.0): 0.2759 - normalized_discounted_cumulative_gain@5(0.0): 0.2759 - mean_average_precision(0.0): 0.2759\n",
      "\n"
     ]
    },
    {
     "data": {
      "application/vnd.jupyter.widget-view+json": {
       "model_id": "0856800ab3ff4aa4b70b397941aadc39",
       "version_major": 2,
       "version_minor": 0
      },
      "text/plain": [
       "HBox(children=(IntProgress(value=0, max=1), HTML(value='')))"
      ]
     },
     "metadata": {},
     "output_type": "display_data"
    },
    {
     "name": "stdout",
     "output_type": "stream",
     "text": [
      "\r",
      "[Iter-2 Loss-1.000]:\n",
      "\r",
      "  Validation: normalized_discounted_cumulative_gain@3(0.0): 0.2759 - normalized_discounted_cumulative_gain@5(0.0): 0.2759 - mean_average_precision(0.0): 0.2759\n",
      "\n"
     ]
    },
    {
     "data": {
      "application/vnd.jupyter.widget-view+json": {
       "model_id": "fa002af05f05441c96a5ba6352e6306d",
       "version_major": 2,
       "version_minor": 0
      },
      "text/plain": [
       "HBox(children=(IntProgress(value=0, max=1), HTML(value='')))"
      ]
     },
     "metadata": {},
     "output_type": "display_data"
    },
    {
     "name": "stdout",
     "output_type": "stream",
     "text": [
      "[Iter-3 Loss-1.000]:\n",
      "  Validation: normalized_discounted_cumulative_gain@3(0.0): 0.2759 - normalized_discounted_cumulative_gain@5(0.0): 0.2759 - mean_average_precision(0.0): 0.2759\n",
      "\n"
     ]
    },
    {
     "data": {
      "application/vnd.jupyter.widget-view+json": {
       "model_id": "7d1ae142470342c1b5c6d62f081944cb",
       "version_major": 2,
       "version_minor": 0
      },
      "text/plain": [
       "HBox(children=(IntProgress(value=0, max=1), HTML(value='')))"
      ]
     },
     "metadata": {},
     "output_type": "display_data"
    },
    {
     "name": "stdout",
     "output_type": "stream",
     "text": [
      "[Iter-4 Loss-1.000]:\n",
      "  Validation: normalized_discounted_cumulative_gain@3(0.0): 0.2759 - normalized_discounted_cumulative_gain@5(0.0): 0.2759 - mean_average_precision(0.0): 0.2759\n",
      "\n"
     ]
    },
    {
     "data": {
      "application/vnd.jupyter.widget-view+json": {
       "model_id": "35923dec3ceb4aa1b0b77bad9e7c5160",
       "version_major": 2,
       "version_minor": 0
      },
      "text/plain": [
       "HBox(children=(IntProgress(value=0, max=1), HTML(value='')))"
      ]
     },
     "metadata": {},
     "output_type": "display_data"
    },
    {
     "name": "stdout",
     "output_type": "stream",
     "text": [
      "[Iter-5 Loss-1.000]:\n",
      "  Validation: normalized_discounted_cumulative_gain@3(0.0): 0.2759 - normalized_discounted_cumulative_gain@5(0.0): 0.2759 - mean_average_precision(0.0): 0.2759\n",
      "\n",
      "Cost time: 1.9218964576721191s\n"
     ]
    }
   ],
   "source": [
    "trainer.run()"
   ]
  },
  {
   "cell_type": "code",
   "execution_count": 10,
   "metadata": {},
   "outputs": [
    {
     "data": {
      "text/plain": [
       "279"
      ]
     },
     "execution_count": 10,
     "metadata": {},
     "output_type": "execute_result"
    }
   ],
   "source": [
    "import gc\n",
    "gc.collect()"
   ]
  },
  {
   "cell_type": "code",
   "execution_count": null,
   "metadata": {
    "collapsed": true
   },
   "outputs": [],
   "source": []
  }
 ],
 "metadata": {
  "hide_input": false,
  "kernelspec": {
   "display_name": "Python 3",
   "language": "python",
   "name": "python3"
  },
  "language_info": {
   "codemirror_mode": {
    "name": "ipython",
    "version": 3
   },
   "file_extension": ".py",
   "mimetype": "text/x-python",
   "name": "python",
   "nbconvert_exporter": "python",
   "pygments_lexer": "ipython3",
   "version": "3.6.3"
  },
  "toc": {
   "nav_menu": {},
   "number_sections": true,
   "sideBar": true,
   "skip_h1_title": false,
   "toc_cell": false,
   "toc_position": {},
   "toc_section_display": "block",
   "toc_window_display": false
  },
  "varInspector": {
   "cols": {
    "lenName": 16,
    "lenType": 16,
    "lenVar": 40
   },
   "kernels_config": {
    "python": {
     "delete_cmd_postfix": "",
     "delete_cmd_prefix": "del ",
     "library": "var_list.py",
     "varRefreshCmd": "print(var_dic_list())"
    },
    "r": {
     "delete_cmd_postfix": ") ",
     "delete_cmd_prefix": "rm(",
     "library": "var_list.r",
     "varRefreshCmd": "cat(var_dic_list()) "
    }
   },
   "types_to_exclude": [
    "module",
    "function",
    "builtin_function_or_method",
    "instance",
    "_Feature"
   ],
   "window_display": false
  }
 },
 "nbformat": 4,
 "nbformat_minor": 4
}
