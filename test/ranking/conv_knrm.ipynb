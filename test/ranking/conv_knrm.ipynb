{
 "cells": [
  {
   "cell_type": "code",
   "execution_count": 1,
   "metadata": {
    "ExecuteTime": {
     "end_time": "2019-03-20T09:35:56.628130Z",
     "start_time": "2019-03-20T09:35:45.661384Z"
    }
   },
   "outputs": [
    {
     "name": "stderr",
     "output_type": "stream",
     "text": [
      "C:\\Users\\Administrator\\Anaconda3\\lib\\requests\\__init__.py:80: RequestsDependencyWarning: urllib3 (1.25.11) or chardet (3.0.4) doesn't match a supported version!\n",
      "  RequestsDependencyWarning)\n"
     ]
    },
    {
     "name": "stdout",
     "output_type": "stream",
     "text": [
      "matchzoo version 1.0.2\n",
      "`ranking_task` initialized with metrics [normalized_discounted_cumulative_gain@3(0.0), normalized_discounted_cumulative_gain@5(0.0), mean_average_precision(0.0)]\n",
      "data loading ...\n",
      "data loaded as `train_pack_raw` `dev_pack_raw` `test_pack_raw`\n",
      "停用表配置成功\n"
     ]
    }
   ],
   "source": [
    "%run init.ipynb"
   ]
  },
  {
   "cell_type": "code",
   "execution_count": 2,
   "metadata": {
    "ExecuteTime": {
     "end_time": "2019-03-20T09:35:56.633000Z",
     "start_time": "2019-03-20T09:35:56.630450Z"
    },
    "collapsed": true
   },
   "outputs": [],
   "source": [
    "preprocessor = mz.models.ConvKNRM.get_default_preprocessor()"
   ]
  },
  {
   "cell_type": "code",
   "execution_count": 3,
   "metadata": {
    "ExecuteTime": {
     "end_time": "2019-03-20T09:36:06.249211Z",
     "start_time": "2019-03-20T09:35:56.634788Z"
    }
   },
   "outputs": [
    {
     "name": "stderr",
     "output_type": "stream",
     "text": [
      "Processing text_left with chain_transform of ChineseRemoveBlack => ChineseSimplified => ChineseEmotion => IsChinese => ChineseStopRemoval => ChineseTokenizeDemo => Tokenize => Lowercase => PuncRemoval:   0%| | 0/94 [00:00<?, ?it/s]Building prefix dict from the default dictionary ...\n",
      "Loading model from cache C:\\Users\\ADMINI~1\\AppData\\Local\\Temp\\jieba.cache\n",
      "Loading model cost 2.756 seconds.\n",
      "Prefix dict has been built succesfully.\n",
      "Processing text_left with chain_transform of ChineseRemoveBlack => ChineseSimplified => ChineseEmotion => IsChinese => ChineseStopRemoval => ChineseTokenizeDemo => Tokenize => Lowercase => PuncRemoval: 100%|█| 94/94 [00:03<00:00, 25.67it/s]\n",
      "Processing text_right with chain_transform of ChineseRemoveBlack => ChineseSimplified => ChineseEmotion => IsChinese => ChineseStopRemoval => ChineseTokenizeDemo => Tokenize => Lowercase => PuncRemoval: 100%|█| 100/100 [00:00<00:00, 146.93it/s]\n",
      "Processing text_right with append: 100%|██████████████████████████████████████████| 100/100 [00:00<00:00, 99816.85it/s]\n",
      "Building FrequencyFilter from a datapack.: 100%|██████████████████████████████████| 100/100 [00:00<00:00, 25024.19it/s]\n",
      "Processing text_right with transform: 100%|███████████████████████████████████████| 100/100 [00:00<00:00, 20001.45it/s]\n",
      "Processing text_left with extend: 100%|█████████████████████████████████████████████| 94/94 [00:00<00:00, 47239.94it/s]\n",
      "Processing text_right with extend: 100%|██████████████████████████████████████████| 100/100 [00:00<00:00, 50027.48it/s]\n",
      "Building Vocabulary from a datapack.: 100%|██████████████████████████████████████| 811/811 [00:00<00:00, 814554.73it/s]\n",
      "Processing text_left with chain_transform of ChineseRemoveBlack => ChineseSimplified => ChineseEmotion => IsChinese => ChineseStopRemoval => ChineseTokenizeDemo => Tokenize => Lowercase => PuncRemoval: 100%|█| 94/94 [00:00<00:00, 142.94it/s]\n",
      "Processing text_right with chain_transform of ChineseRemoveBlack => ChineseSimplified => ChineseEmotion => IsChinese => ChineseStopRemoval => ChineseTokenizeDemo => Tokenize => Lowercase => PuncRemoval: 100%|█| 100/100 [00:00<00:00, 151.83it/s]\n",
      "Processing text_right with transform: 100%|███████████████████████████████████████| 100/100 [00:00<00:00, 50087.22it/s]\n",
      "Processing text_left with transform: 100%|██████████████████████████████████████████| 94/94 [00:00<00:00, 15664.69it/s]\n",
      "Processing text_right with transform: 100%|███████████████████████████████████████| 100/100 [00:00<00:00, 14291.13it/s]\n",
      "Processing length_left with len: 100%|██████████████████████████████████████████████| 94/94 [00:00<00:00, 94119.02it/s]\n",
      "Processing length_right with len: 100%|███████████████████████████████████████████| 100/100 [00:00<00:00, 50027.48it/s]\n",
      "Processing text_left with chain_transform of ChineseRemoveBlack => ChineseSimplified => ChineseEmotion => IsChinese => ChineseStopRemoval => ChineseTokenizeDemo => Tokenize => Lowercase => PuncRemoval: 100%|█| 46/46 [00:00<00:00, 135.37it/s]\n",
      "Processing text_right with chain_transform of ChineseRemoveBlack => ChineseSimplified => ChineseEmotion => IsChinese => ChineseStopRemoval => ChineseTokenizeDemo => Tokenize => Lowercase => PuncRemoval: 100%|█| 50/50 [00:00<00:00, 148.45it/s]\n",
      "Processing text_right with transform: 100%|█████████████████████████████████████████| 50/50 [00:00<00:00, 25013.74it/s]\n",
      "Processing text_left with transform: 100%|██████████████████████████████████████████| 46/46 [00:00<00:00, 11510.44it/s]\n",
      "Processing text_right with transform: 100%|█████████████████████████████████████████| 50/50 [00:00<00:00, 24998.83it/s]\n",
      "Processing length_left with len: 100%|██████████████████████████████████████████████| 46/46 [00:00<00:00, 11505.63it/s]\n",
      "Processing length_right with len: 100%|█████████████████████████████████████████████| 50/50 [00:00<00:00, 50159.10it/s]\n",
      "Processing text_left with chain_transform of ChineseRemoveBlack => ChineseSimplified => ChineseEmotion => IsChinese => ChineseStopRemoval => ChineseTokenizeDemo => Tokenize => Lowercase => PuncRemoval: 100%|█| 30/30 [00:00<00:00, 87.51it/s]\n",
      "Processing text_right with chain_transform of ChineseRemoveBlack => ChineseSimplified => ChineseEmotion => IsChinese => ChineseStopRemoval => ChineseTokenizeDemo => Tokenize => Lowercase => PuncRemoval: 100%|█| 30/30 [00:00<00:00, 122.52it/s]\n",
      "Processing text_right with transform: 100%|█████████████████████████████████████████| 30/30 [00:00<00:00, 15074.77it/s]\n",
      "Processing text_left with transform: 100%|██████████████████████████████████████████| 30/30 [00:00<00:00, 15018.99it/s]\n",
      "Processing text_right with transform: 100%|█████████████████████████████████████████| 30/30 [00:00<00:00, 15018.99it/s]\n",
      "Processing length_left with len: 100%|███████████████████████████████████████████████| 30/30 [00:00<00:00, 5004.94it/s]\n",
      "Processing length_right with len: 100%|██████████████████████████████████████████████| 30/30 [00:00<00:00, 3001.51it/s]\n"
     ]
    }
   ],
   "source": [
    "train_pack_processed = preprocessor.fit_transform(train_pack_raw)\n",
    "dev_pack_processed = preprocessor.transform(dev_pack_raw)\n",
    "test_pack_processed = preprocessor.transform(test_pack_raw)"
   ]
  },
  {
   "cell_type": "code",
   "execution_count": 4,
   "metadata": {
    "ExecuteTime": {
     "end_time": "2019-03-20T09:36:06.262937Z",
     "start_time": "2019-03-20T09:36:06.253350Z"
    }
   },
   "outputs": [
    {
     "data": {
      "text/plain": [
       "{'embedding_input_dim': 305,\n",
       " 'filter_unit': <mzcn.preprocessors.units.frequency_filter.FrequencyFilter at 0x1c5bdea0a20>,\n",
       " 'vocab_size': 305,\n",
       " 'vocab_unit': <mzcn.preprocessors.units.vocabulary.Vocabulary at 0x1c5bd86d0f0>}"
      ]
     },
     "execution_count": 4,
     "metadata": {},
     "output_type": "execute_result"
    }
   ],
   "source": [
    "preprocessor.context"
   ]
  },
  {
   "cell_type": "code",
   "execution_count": 5,
   "metadata": {
    "collapsed": true
   },
   "outputs": [],
   "source": [
    "# glove_embedding = mz.datasets.embeddings.load_glove_embedding(dimension=300)\n",
    "# term_index = preprocessor.context['vocab_unit'].state['term_index']\n",
    "# embedding_matrix = glove_embedding.build_matrix(term_index)\n",
    "# l2_norm = np.sqrt((embedding_matrix * embedding_matrix).sum(axis=1))\n",
    "# embedding_matrix = embedding_matrix / l2_norm[:, np.newaxis]"
   ]
  },
  {
   "cell_type": "code",
   "execution_count": 6,
   "metadata": {
    "collapsed": true
   },
   "outputs": [],
   "source": [
    "trainset = mz.dataloader.Dataset(\n",
    "    data_pack=train_pack_processed,\n",
    "    mode='pair',\n",
    "    num_dup=2,\n",
    "    num_neg=1\n",
    ")\n",
    "devset = mz.dataloader.Dataset(\n",
    "    data_pack=dev_pack_processed\n",
    ")"
   ]
  },
  {
   "cell_type": "code",
   "execution_count": 7,
   "metadata": {
    "collapsed": true
   },
   "outputs": [],
   "source": [
    "padding_callback = mz.models.ConvKNRM.get_default_padding_callback()\n",
    "\n",
    "trainloader = mz.dataloader.DataLoader(\n",
    "    dataset=trainset,\n",
    "    stage='train',\n",
    "    callback=padding_callback,\n",
    ")\n",
    "devloader = mz.dataloader.DataLoader(\n",
    "    dataset=devset,\n",
    "    stage='dev',\n",
    "    callback=padding_callback,\n",
    ")"
   ]
  },
  {
   "cell_type": "code",
   "execution_count": 8,
   "metadata": {
    "ExecuteTime": {
     "end_time": "2019-03-20T09:36:06.413530Z",
     "start_time": "2019-03-20T09:36:06.267256Z"
    }
   },
   "outputs": [
    {
     "name": "stdout",
     "output_type": "stream",
     "text": [
      "ConvKNRM(\n",
      "  (embedding): Embedding(305, 100, padding_idx=0)\n",
      "  (q_convs): ModuleList(\n",
      "    (0): Sequential(\n",
      "      (0): ConstantPad1d(padding=(0, 0), value=0)\n",
      "      (1): Conv1d(100, 128, kernel_size=(1,), stride=(1,))\n",
      "      (2): Tanh()\n",
      "    )\n",
      "    (1): Sequential(\n",
      "      (0): ConstantPad1d(padding=(0, 1), value=0)\n",
      "      (1): Conv1d(100, 128, kernel_size=(2,), stride=(1,))\n",
      "      (2): Tanh()\n",
      "    )\n",
      "    (2): Sequential(\n",
      "      (0): ConstantPad1d(padding=(0, 2), value=0)\n",
      "      (1): Conv1d(100, 128, kernel_size=(3,), stride=(1,))\n",
      "      (2): Tanh()\n",
      "    )\n",
      "  )\n",
      "  (d_convs): ModuleList(\n",
      "    (0): Sequential(\n",
      "      (0): ConstantPad1d(padding=(0, 0), value=0)\n",
      "      (1): Conv1d(100, 128, kernel_size=(1,), stride=(1,))\n",
      "      (2): Tanh()\n",
      "    )\n",
      "    (1): Sequential(\n",
      "      (0): ConstantPad1d(padding=(0, 1), value=0)\n",
      "      (1): Conv1d(100, 128, kernel_size=(2,), stride=(1,))\n",
      "      (2): Tanh()\n",
      "    )\n",
      "    (2): Sequential(\n",
      "      (0): ConstantPad1d(padding=(0, 2), value=0)\n",
      "      (1): Conv1d(100, 128, kernel_size=(3,), stride=(1,))\n",
      "      (2): Tanh()\n",
      "    )\n",
      "  )\n",
      "  (kernels): ModuleList(\n",
      "    (0): GaussianKernel()\n",
      "    (1): GaussianKernel()\n",
      "    (2): GaussianKernel()\n",
      "    (3): GaussianKernel()\n",
      "    (4): GaussianKernel()\n",
      "    (5): GaussianKernel()\n",
      "    (6): GaussianKernel()\n",
      "    (7): GaussianKernel()\n",
      "    (8): GaussianKernel()\n",
      "    (9): GaussianKernel()\n",
      "    (10): GaussianKernel()\n",
      "  )\n",
      "  (out): Linear(in_features=99, out_features=1, bias=True)\n",
      ")\n",
      "Trainable params:  107784\n"
     ]
    }
   ],
   "source": [
    "model = mz.models.ConvKNRM()\n",
    "\n",
    "model.params['task'] = ranking_task\n",
    "# model.params['embedding'] = embedding_matrix #这里是当加载glove等模型时取消该行注释\n",
    "#设置embedding系数\n",
    "model.params[\"embedding_output_dim\"]=100\n",
    "model.params[\"embedding_input_dim\"]=preprocessor.context[\"embedding_input_dim\"]\n",
    "model.params['filters'] = 128 \n",
    "model.params['conv_activation_func'] = 'tanh' \n",
    "model.params['max_ngram'] = 3\n",
    "model.params['use_crossmatch'] = True \n",
    "model.params['kernel_num'] = 11\n",
    "model.params['sigma'] = 0.1\n",
    "model.params['exact_sigma'] = 0.001\n",
    "\n",
    "model.build()\n",
    "\n",
    "print(model)\n",
    "print('Trainable params: ', sum(p.numel() for p in model.parameters() if p.requires_grad))"
   ]
  },
  {
   "cell_type": "code",
   "execution_count": 9,
   "metadata": {
    "ExecuteTime": {
     "end_time": "2019-03-20T09:36:06.422264Z",
     "start_time": "2019-03-20T09:36:06.415605Z"
    }
   },
   "outputs": [
    {
     "data": {
      "application/vnd.jupyter.widget-view+json": {
       "model_id": "a06bc9fb03244fc59be6033493e64168",
       "version_major": 2,
       "version_minor": 0
      },
      "text/plain": [
       "HBox(children=(IntProgress(value=0, max=1), HTML(value='')))"
      ]
     },
     "metadata": {},
     "output_type": "display_data"
    },
    {
     "name": "stdout",
     "output_type": "stream",
     "text": [
      "[Iter-1 Loss-1.196]:\n",
      "  Validation: normalized_discounted_cumulative_gain@3(0.0): 0.2727 - normalized_discounted_cumulative_gain@5(0.0): 0.2727 - mean_average_precision(0.0): 0.2727\n",
      "\n"
     ]
    },
    {
     "data": {
      "application/vnd.jupyter.widget-view+json": {
       "model_id": "ecf22fa415224ca3bffdb3f4e32405f1",
       "version_major": 2,
       "version_minor": 0
      },
      "text/plain": [
       "HBox(children=(IntProgress(value=0, max=1), HTML(value='')))"
      ]
     },
     "metadata": {},
     "output_type": "display_data"
    },
    {
     "name": "stdout",
     "output_type": "stream",
     "text": [
      "[Iter-2 Loss-0.782]:\n",
      "  Validation: normalized_discounted_cumulative_gain@3(0.0): 0.2727 - normalized_discounted_cumulative_gain@5(0.0): 0.2727 - mean_average_precision(0.0): 0.2727\n",
      "\n"
     ]
    },
    {
     "data": {
      "application/vnd.jupyter.widget-view+json": {
       "model_id": "5c0486942c5e494ab175d34b4b9201b3",
       "version_major": 2,
       "version_minor": 0
      },
      "text/plain": [
       "HBox(children=(IntProgress(value=0, max=1), HTML(value='')))"
      ]
     },
     "metadata": {},
     "output_type": "display_data"
    },
    {
     "name": "stdout",
     "output_type": "stream",
     "text": [
      "[Iter-3 Loss-0.365]:\n",
      "  Validation: normalized_discounted_cumulative_gain@3(0.0): 0.2727 - normalized_discounted_cumulative_gain@5(0.0): 0.2727 - mean_average_precision(0.0): 0.2727\n",
      "\n"
     ]
    },
    {
     "data": {
      "application/vnd.jupyter.widget-view+json": {
       "model_id": "a56f1af953424a0fb0041c02f26cbf69",
       "version_major": 2,
       "version_minor": 0
      },
      "text/plain": [
       "HBox(children=(IntProgress(value=0, max=1), HTML(value='')))"
      ]
     },
     "metadata": {},
     "output_type": "display_data"
    },
    {
     "name": "stdout",
     "output_type": "stream",
     "text": [
      "[Iter-4 Loss-0.000]:\n",
      "  Validation: normalized_discounted_cumulative_gain@3(0.0): 0.2727 - normalized_discounted_cumulative_gain@5(0.0): 0.2727 - mean_average_precision(0.0): 0.2727\n",
      "\n"
     ]
    },
    {
     "data": {
      "application/vnd.jupyter.widget-view+json": {
       "model_id": "2e503972000248218370f004a58c083b",
       "version_major": 2,
       "version_minor": 0
      },
      "text/plain": [
       "HBox(children=(IntProgress(value=0, max=1), HTML(value='')))"
      ]
     },
     "metadata": {},
     "output_type": "display_data"
    },
    {
     "name": "stdout",
     "output_type": "stream",
     "text": [
      "[Iter-5 Loss-0.000]:\n",
      "  Validation: normalized_discounted_cumulative_gain@3(0.0): 0.2727 - normalized_discounted_cumulative_gain@5(0.0): 0.2727 - mean_average_precision(0.0): 0.2727\n",
      "\n",
      "Cost time: 3.449012041091919s\n"
     ]
    }
   ],
   "source": [
    "optimizer = torch.optim.Adam(model.parameters(), lr = 3e-4)\n",
    "\n",
    "trainer = mz.trainers.Trainer(\n",
    "    model=model,\n",
    "    optimizer=optimizer,\n",
    "    trainloader=trainloader,\n",
    "    validloader=devloader,\n",
    "    validate_interval=None,\n",
    "    epochs=5\n",
    ")\n",
    "\n",
    "trainer.run()"
   ]
  },
  {
   "cell_type": "code",
   "execution_count": 10,
   "metadata": {
    "ExecuteTime": {
     "end_time": "2019-03-20T09:37:59.341616Z",
     "start_time": "2019-03-20T09:36:06.425086Z"
    }
   },
   "outputs": [
    {
     "data": {
      "text/plain": [
       "438"
      ]
     },
     "execution_count": 10,
     "metadata": {},
     "output_type": "execute_result"
    }
   ],
   "source": [
    "import gc\n",
    "gc.collect()"
   ]
  },
  {
   "cell_type": "code",
   "execution_count": null,
   "metadata": {
    "collapsed": true
   },
   "outputs": [],
   "source": []
  }
 ],
 "metadata": {
  "hide_input": false,
  "kernelspec": {
   "display_name": "Python 3",
   "language": "python",
   "name": "python3"
  },
  "language_info": {
   "codemirror_mode": {
    "name": "ipython",
    "version": 3
   },
   "file_extension": ".py",
   "mimetype": "text/x-python",
   "name": "python",
   "nbconvert_exporter": "python",
   "pygments_lexer": "ipython3",
   "version": "3.6.3"
  },
  "toc": {
   "nav_menu": {},
   "number_sections": true,
   "sideBar": true,
   "skip_h1_title": false,
   "toc_cell": false,
   "toc_position": {},
   "toc_section_display": "block",
   "toc_window_display": false
  },
  "varInspector": {
   "cols": {
    "lenName": 16,
    "lenType": 16,
    "lenVar": 40
   },
   "kernels_config": {
    "python": {
     "delete_cmd_postfix": "",
     "delete_cmd_prefix": "del ",
     "library": "var_list.py",
     "varRefreshCmd": "print(var_dic_list())"
    },
    "r": {
     "delete_cmd_postfix": ") ",
     "delete_cmd_prefix": "rm(",
     "library": "var_list.r",
     "varRefreshCmd": "cat(var_dic_list()) "
    }
   },
   "types_to_exclude": [
    "module",
    "function",
    "builtin_function_or_method",
    "instance",
    "_Feature"
   ],
   "window_display": false
  }
 },
 "nbformat": 4,
 "nbformat_minor": 4
}
