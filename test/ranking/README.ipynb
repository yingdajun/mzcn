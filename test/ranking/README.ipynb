{
 "cells": [
  {
   "cell_type": "markdown",
   "metadata": {},
   "source": [
    "# mzcn"
   ]
  },
  {
   "cell_type": "markdown",
   "metadata": {},
   "source": [
    "中文版本的matchzoo-py"
   ]
  },
  {
   "cell_type": "markdown",
   "metadata": {},
   "source": [
    "本库包是基于matchzoo-py的库包做的二次开发开源项目，MatchZoo 是一个通用的文本匹配工具包，它旨在方便大家快速的实现、比较、以及分享最新的深度文本匹配模型。\n",
    "<br>\n",
    "由于matchzoo-py面向英文预处理较为容易，中文处理则需要进行一定的预处理。为此本人在借鉴学习他人成功的基础上，改进了matchzoo-py包，开发mzcn库包。\n",
    "<br>\n",
    "mzcn库包对中文文本语料进行只保留文本、去除表情、去除空格、去除停用词等操作，使得使用者可以快速进行中文文本语料进行预处理，使用方法和matchzoo-py基本一致。"
   ]
  },
  {
   "cell_type": "markdown",
   "metadata": {},
   "source": [
    "# 快速入手"
   ]
  },
  {
   "cell_type": "markdown",
   "metadata": {},
   "source": [
    "## 定义损失函数和指标"
   ]
  },
  {
   "cell_type": "code",
   "execution_count": 1,
   "metadata": {},
   "outputs": [
    {
     "name": "stderr",
     "output_type": "stream",
     "text": [
      "C:\\Users\\Administrator\\Anaconda3\\lib\\requests\\__init__.py:80: RequestsDependencyWarning: urllib3 (1.25.11) or chardet (3.0.4) doesn't match a supported version!\n",
      "  RequestsDependencyWarning)\n"
     ]
    },
    {
     "name": "stdout",
     "output_type": "stream",
     "text": [
      "matchzoo version 1.0.2\n",
      "`ranking_task` initialized with metrics [normalized_discounted_cumulative_gain@3(0.0), normalized_discounted_cumulative_gain@5(0.0), mean_average_precision(0.0)]\n"
     ]
    }
   ],
   "source": [
    "import torch\n",
    "import numpy as np\n",
    "import pandas as pd\n",
    "import mzcn as mz\n",
    "print('matchzoo version', mz.__version__)\n",
    "ranking_task = mz.tasks.Ranking(losses=mz.losses.RankHingeLoss())\n",
    "ranking_task.metrics = [\n",
    "    mz.metrics.NormalizedDiscountedCumulativeGain(k=3),\n",
    "    mz.metrics.NormalizedDiscountedCumulativeGain(k=5),\n",
    "    mz.metrics.MeanAveragePrecision()\n",
    "]\n",
    "print(\"`ranking_task` initialized with metrics\", ranking_task.metrics)"
   ]
  },
  {
   "cell_type": "markdown",
   "metadata": {},
   "source": [
    "## 准备输入数据"
   ]
  },
  {
   "cell_type": "code",
   "execution_count": 2,
   "metadata": {
    "collapsed": true
   },
   "outputs": [],
   "source": [
    "def load_data(tmp_data,tmp_task):\n",
    "\tdf_data = mz.pack(tmp_data,task=tmp_task)\n",
    "\treturn df_data\n",
    "##数据集，并且进行相应的预处理\n",
    "train=pd.read_csv('./data/train_data.csv').sample(100)\n",
    "dev=pd.read_csv('./data/dev_data.csv').sample(50)\n",
    "test=pd.read_csv('./data/test_data.csv').sample(30)\n",
    "train_pack_raw = load_data(train,ranking_task)\n",
    "dev_pack_raw = load_data(dev,ranking_task)\n",
    "test_pack_raw=load_data(test,ranking_task)"
   ]
  },
  {
   "cell_type": "markdown",
   "metadata": {},
   "source": [
    "# 停用表配置"
   ]
  },
  {
   "cell_type": "code",
   "execution_count": 3,
   "metadata": {
    "collapsed": true
   },
   "outputs": [],
   "source": [
    "import os"
   ]
  },
  {
   "cell_type": "code",
   "execution_count": 5,
   "metadata": {},
   "outputs": [
    {
     "name": "stdout",
     "output_type": "stream",
     "text": [
      "停用表配置成功\n"
     ]
    }
   ],
   "source": [
    "folder=mz.__path__[0]+'\\\\preprocessors\\\\units\\\\'\n",
    "file=folder+'stopwords.txt'\n",
    "if not os.path.exists(file):\n",
    "    print('请将stopwords.txt放置在'+folder+'下面')\n",
    "else:\n",
    "    print('停用表配置成功')"
   ]
  },
  {
   "cell_type": "markdown",
   "metadata": {},
   "source": [
    "## 数据集预处理"
   ]
  },
  {
   "cell_type": "code",
   "execution_count": 6,
   "metadata": {
    "collapsed": true
   },
   "outputs": [],
   "source": [
    "preprocessor = mz.models.aNMM.get_default_preprocessor()"
   ]
  },
  {
   "cell_type": "code",
   "execution_count": 7,
   "metadata": {},
   "outputs": [
    {
     "name": "stderr",
     "output_type": "stream",
     "text": [
      "Processing text_left with chain_transform of ChineseRemoveBlack => ChineseSimplified => ChineseEmotion => IsChinese => ChineseStopRemoval => ChineseTokenizeDemo => Tokenize => Lowercase => PuncRemoval:   0%| | 0/93 [00:00<?, ?it/s]Building prefix dict from the default dictionary ...\n",
      "Loading model from cache C:\\Users\\ADMINI~1\\AppData\\Local\\Temp\\jieba.cache\n",
      "Loading model cost 1.871 seconds.\n",
      "Prefix dict has been built succesfully.\n",
      "Processing text_left with chain_transform of ChineseRemoveBlack => ChineseSimplified => ChineseEmotion => IsChinese => ChineseStopRemoval => ChineseTokenizeDemo => Tokenize => Lowercase => PuncRemoval: 100%|█| 93/93 [00:02<00:00, 37.69it/s]\n",
      "Processing text_right with chain_transform of ChineseRemoveBlack => ChineseSimplified => ChineseEmotion => IsChinese => ChineseStopRemoval => ChineseTokenizeDemo => Tokenize => Lowercase => PuncRemoval: 100%|█| 96/96 [00:00<00:00, 174.01it/s]\n",
      "Processing text_right with append: 100%|████████████████████████████████████████████| 96/96 [00:00<00:00, 96167.47it/s]\n",
      "Building FrequencyFilter from a datapack.: 100%|████████████████████████████████████| 96/96 [00:00<00:00, 24020.35it/s]\n",
      "Processing text_right with transform: 100%|█████████████████████████████████████████| 96/96 [00:00<00:00, 48077.99it/s]\n",
      "Processing text_left with extend: 100%|█████████████████████████████████████████████| 93/93 [00:00<00:00, 93970.19it/s]\n",
      "Processing text_right with extend: 100%|████████████████████████████████████████████| 96/96 [00:00<00:00, 96328.51it/s]\n",
      "Building Vocabulary from a datapack.: 100%|██████████████████████████████████████| 983/983 [00:00<00:00, 987781.70it/s]\n",
      "Processing text_left with chain_transform of ChineseRemoveBlack => ChineseSimplified => ChineseEmotion => IsChinese => ChineseStopRemoval => ChineseTokenizeDemo => Tokenize => Lowercase => PuncRemoval: 100%|█| 93/93 [00:00<00:00, 177.25it/s]\n",
      "Processing text_right with chain_transform of ChineseRemoveBlack => ChineseSimplified => ChineseEmotion => IsChinese => ChineseStopRemoval => ChineseTokenizeDemo => Tokenize => Lowercase => PuncRemoval: 100%|█| 96/96 [00:00<00:00, 174.33it/s]\n",
      "Processing text_right with transform: 100%|█████████████████████████████████████████| 96/96 [00:00<00:00, 47934.90it/s]\n",
      "Processing text_left with transform: 100%|██████████████████████████████████████████| 93/93 [00:00<00:00, 46525.56it/s]\n",
      "Processing text_right with transform: 100%|█████████████████████████████████████████| 96/96 [00:00<00:00, 48032.11it/s]\n",
      "Processing length_left with len: 100%|██████████████████████████████████████████████| 93/93 [00:00<00:00, 23261.39it/s]\n",
      "Processing length_right with len: 100%|█████████████████████████████████████████████| 96/96 [00:00<00:00, 47952.03it/s]\n",
      "Processing text_left with chain_transform of ChineseRemoveBlack => ChineseSimplified => ChineseEmotion => IsChinese => ChineseStopRemoval => ChineseTokenizeDemo => Tokenize => Lowercase => PuncRemoval: 100%|█| 47/47 [00:00<00:00, 167.94it/s]\n",
      "Processing text_right with chain_transform of ChineseRemoveBlack => ChineseSimplified => ChineseEmotion => IsChinese => ChineseStopRemoval => ChineseTokenizeDemo => Tokenize => Lowercase => PuncRemoval: 100%|█| 49/49 [00:00<00:00, 180.24it/s]\n",
      "Processing text_right with transform: 100%|█████████████████████████████████████████| 49/49 [00:00<00:00, 12255.27it/s]\n",
      "Processing text_left with transform: 100%|██████████████████████████████████████████| 47/47 [00:00<00:00, 23521.33it/s]\n",
      "Processing text_right with transform: 100%|█████████████████████████████████████████| 49/49 [00:00<00:00, 16339.71it/s]\n",
      "Processing length_left with len: 100%|███████████████████████████████████████████████| 47/47 [00:00<00:00, 5876.48it/s]\n",
      "Processing length_right with len: 100%|██████████████████████████████████████████████| 49/49 [00:00<00:00, 5449.46it/s]\n",
      "Processing text_left with chain_transform of ChineseRemoveBlack => ChineseSimplified => ChineseEmotion => IsChinese => ChineseStopRemoval => ChineseTokenizeDemo => Tokenize => Lowercase => PuncRemoval: 100%|█| 30/30 [00:00<00:00, 162.26it/s]\n",
      "Processing text_right with chain_transform of ChineseRemoveBlack => ChineseSimplified => ChineseEmotion => IsChinese => ChineseStopRemoval => ChineseTokenizeDemo => Tokenize => Lowercase => PuncRemoval: 100%|█| 29/29 [00:00<00:00, 165.81it/s]\n",
      "Processing text_right with transform: 100%|█████████████████████████████████████████| 29/29 [00:00<00:00, 29099.24it/s]\n",
      "Processing text_left with transform: 100%|██████████████████████████████████████████| 30/30 [00:00<00:00, 30023.65it/s]\n",
      "Processing text_right with transform: 100%|█████████████████████████████████████████| 29/29 [00:00<00:00, 28967.57it/s]\n",
      "Processing length_left with len: 100%|██████████████████████████████████████████████| 30/30 [00:00<00:00, 10021.43it/s]\n",
      "Processing length_right with len: 100%|█████████████████████████████████████████████| 29/29 [00:00<00:00, 29002.10it/s]\n"
     ]
    }
   ],
   "source": [
    "train_pack_processed = preprocessor.fit_transform(train_pack_raw)\n",
    "dev_pack_processed = preprocessor.transform(dev_pack_raw)\n",
    "test_pack_processed = preprocessor.transform(test_pack_raw)"
   ]
  },
  {
   "cell_type": "markdown",
   "metadata": {},
   "source": [
    "## 生成训练数据"
   ]
  },
  {
   "cell_type": "code",
   "execution_count": 8,
   "metadata": {
    "collapsed": true
   },
   "outputs": [],
   "source": [
    "trainset = mz.dataloader.Dataset(\n",
    "    data_pack=train_pack_processed,\n",
    "    mode='pair',\n",
    "    num_dup=2,\n",
    "    num_neg=1\n",
    ")\n",
    "devset = mz.dataloader.Dataset(\n",
    "    data_pack=dev_pack_processed\n",
    ")"
   ]
  },
  {
   "cell_type": "markdown",
   "metadata": {},
   "source": [
    "## 生成管道"
   ]
  },
  {
   "cell_type": "code",
   "execution_count": 9,
   "metadata": {
    "collapsed": true
   },
   "outputs": [],
   "source": [
    "padding_callback = mz.models.aNMM.get_default_padding_callback()\n",
    "\n",
    "trainloader = mz.dataloader.DataLoader(\n",
    "    dataset=trainset,\n",
    "    stage='train',\n",
    "    callback=padding_callback,\n",
    ")\n",
    "devloader = mz.dataloader.DataLoader(\n",
    "    dataset=devset,\n",
    "    stage='dev',\n",
    "    callback=padding_callback,\n",
    ")"
   ]
  },
  {
   "cell_type": "markdown",
   "metadata": {},
   "source": [
    "## 定义模型"
   ]
  },
  {
   "cell_type": "code",
   "execution_count": 10,
   "metadata": {},
   "outputs": [
    {
     "name": "stdout",
     "output_type": "stream",
     "text": [
      "aNMM(\n",
      "  (embedding): Embedding(330, 100, padding_idx=0)\n",
      "  (matching): Matching()\n",
      "  (hidden_layers): Sequential(\n",
      "    (0): Sequential(\n",
      "      (0): Linear(in_features=200, out_features=100, bias=True)\n",
      "      (1): ReLU()\n",
      "    )\n",
      "    (1): Sequential(\n",
      "      (0): Linear(in_features=100, out_features=1, bias=True)\n",
      "      (1): ReLU()\n",
      "    )\n",
      "  )\n",
      "  (q_attention): Attention(\n",
      "    (linear): Linear(in_features=100, out_features=1, bias=False)\n",
      "  )\n",
      "  (dropout): Dropout(p=0.1, inplace=False)\n",
      "  (out): Linear(in_features=1, out_features=1, bias=True)\n",
      ")\n"
     ]
    }
   ],
   "source": [
    "model = mz.models.aNMM()\n",
    "model.params['task'] = ranking_task\n",
    "model.params[\"embedding_output_dim\"]=100\n",
    "model.params[\"embedding_input_dim\"]=preprocessor.context[\"embedding_input_dim\"]\n",
    "model.params['dropout_rate'] = 0.1\n",
    "model.build()\n",
    "print(model)"
   ]
  },
  {
   "cell_type": "markdown",
   "metadata": {},
   "source": [
    "## 模型训练"
   ]
  },
  {
   "cell_type": "code",
   "execution_count": 11,
   "metadata": {},
   "outputs": [
    {
     "data": {
      "application/vnd.jupyter.widget-view+json": {
       "model_id": "8d3b631bf13d4363a36b7fb671c04205",
       "version_major": 2,
       "version_minor": 0
      },
      "text/plain": [
       "HBox(children=(IntProgress(value=0, max=1), HTML(value='')))"
      ]
     },
     "metadata": {},
     "output_type": "display_data"
    },
    {
     "name": "stdout",
     "output_type": "stream",
     "text": [
      "[Iter-1 Loss-1.000]:\n",
      "  Validation: normalized_discounted_cumulative_gain@3(0.0): 0.2188 - normalized_discounted_cumulative_gain@5(0.0): 0.2188 - mean_average_precision(0.0): 0.2188\n",
      "\n"
     ]
    },
    {
     "data": {
      "application/vnd.jupyter.widget-view+json": {
       "model_id": "a68afdf7478a4bbb96a7d1b7e179fac1",
       "version_major": 2,
       "version_minor": 0
      },
      "text/plain": [
       "HBox(children=(IntProgress(value=0, max=1), HTML(value='')))"
      ]
     },
     "metadata": {},
     "output_type": "display_data"
    },
    {
     "name": "stdout",
     "output_type": "stream",
     "text": [
      "[Iter-2 Loss-1.000]:\n",
      "  Validation: normalized_discounted_cumulative_gain@3(0.0): 0.2188 - normalized_discounted_cumulative_gain@5(0.0): 0.2188 - mean_average_precision(0.0): 0.2188\n",
      "\n"
     ]
    },
    {
     "data": {
      "application/vnd.jupyter.widget-view+json": {
       "model_id": "a7f5b347c5f2490d9a1555ef6566ace7",
       "version_major": 2,
       "version_minor": 0
      },
      "text/plain": [
       "HBox(children=(IntProgress(value=0, max=1), HTML(value='')))"
      ]
     },
     "metadata": {},
     "output_type": "display_data"
    },
    {
     "name": "stdout",
     "output_type": "stream",
     "text": [
      "[Iter-3 Loss-1.000]:\n",
      "  Validation: normalized_discounted_cumulative_gain@3(0.0): 0.2188 - normalized_discounted_cumulative_gain@5(0.0): 0.2188 - mean_average_precision(0.0): 0.2188\n",
      "\n"
     ]
    },
    {
     "data": {
      "application/vnd.jupyter.widget-view+json": {
       "model_id": "84281110216b44009b71e13075aeeeeb",
       "version_major": 2,
       "version_minor": 0
      },
      "text/plain": [
       "HBox(children=(IntProgress(value=0, max=1), HTML(value='')))"
      ]
     },
     "metadata": {},
     "output_type": "display_data"
    },
    {
     "name": "stdout",
     "output_type": "stream",
     "text": [
      "[Iter-4 Loss-1.000]:\n",
      "  Validation: normalized_discounted_cumulative_gain@3(0.0): 0.2188 - normalized_discounted_cumulative_gain@5(0.0): 0.2188 - mean_average_precision(0.0): 0.2188\n",
      "\n"
     ]
    },
    {
     "data": {
      "application/vnd.jupyter.widget-view+json": {
       "model_id": "c10c620cdbee40aa97b008d3a7625a05",
       "version_major": 2,
       "version_minor": 0
      },
      "text/plain": [
       "HBox(children=(IntProgress(value=0, max=1), HTML(value='')))"
      ]
     },
     "metadata": {},
     "output_type": "display_data"
    },
    {
     "name": "stdout",
     "output_type": "stream",
     "text": [
      "[Iter-5 Loss-1.000]:\n",
      "  Validation: normalized_discounted_cumulative_gain@3(0.0): 0.2188 - normalized_discounted_cumulative_gain@5(0.0): 0.2188 - mean_average_precision(0.0): 0.2188\n",
      "\n"
     ]
    },
    {
     "data": {
      "application/vnd.jupyter.widget-view+json": {
       "model_id": "7f740107efb149a4b64bc802b6810210",
       "version_major": 2,
       "version_minor": 0
      },
      "text/plain": [
       "HBox(children=(IntProgress(value=0, max=1), HTML(value='')))"
      ]
     },
     "metadata": {},
     "output_type": "display_data"
    },
    {
     "name": "stdout",
     "output_type": "stream",
     "text": [
      "[Iter-6 Loss-1.000]:\n",
      "  Validation: normalized_discounted_cumulative_gain@3(0.0): 0.2188 - normalized_discounted_cumulative_gain@5(0.0): 0.2188 - mean_average_precision(0.0): 0.2188\n",
      "\n"
     ]
    },
    {
     "data": {
      "application/vnd.jupyter.widget-view+json": {
       "model_id": "a43166ff0b244a39955b2790947043d6",
       "version_major": 2,
       "version_minor": 0
      },
      "text/plain": [
       "HBox(children=(IntProgress(value=0, max=1), HTML(value='')))"
      ]
     },
     "metadata": {},
     "output_type": "display_data"
    },
    {
     "name": "stdout",
     "output_type": "stream",
     "text": [
      "[Iter-7 Loss-1.000]:\n",
      "  Validation: normalized_discounted_cumulative_gain@3(0.0): 0.2188 - normalized_discounted_cumulative_gain@5(0.0): 0.2188 - mean_average_precision(0.0): 0.2188\n",
      "\n"
     ]
    },
    {
     "data": {
      "application/vnd.jupyter.widget-view+json": {
       "model_id": "c5fab99870024faa9ffc4d4dc64ea459",
       "version_major": 2,
       "version_minor": 0
      },
      "text/plain": [
       "HBox(children=(IntProgress(value=0, max=1), HTML(value='')))"
      ]
     },
     "metadata": {},
     "output_type": "display_data"
    },
    {
     "name": "stdout",
     "output_type": "stream",
     "text": [
      "[Iter-8 Loss-1.000]:\n",
      "  Validation: normalized_discounted_cumulative_gain@3(0.0): 0.2188 - normalized_discounted_cumulative_gain@5(0.0): 0.2188 - mean_average_precision(0.0): 0.2188\n",
      "\n"
     ]
    },
    {
     "data": {
      "application/vnd.jupyter.widget-view+json": {
       "model_id": "078b3987f3ba4f32b7eaf4efaf54faf1",
       "version_major": 2,
       "version_minor": 0
      },
      "text/plain": [
       "HBox(children=(IntProgress(value=0, max=1), HTML(value='')))"
      ]
     },
     "metadata": {},
     "output_type": "display_data"
    },
    {
     "name": "stdout",
     "output_type": "stream",
     "text": [
      "[Iter-9 Loss-1.000]:\n",
      "  Validation: normalized_discounted_cumulative_gain@3(0.0): 0.2188 - normalized_discounted_cumulative_gain@5(0.0): 0.2188 - mean_average_precision(0.0): 0.2188\n",
      "\n"
     ]
    },
    {
     "data": {
      "application/vnd.jupyter.widget-view+json": {
       "model_id": "4b9693dd51e0470bb830a45df1ad4fef",
       "version_major": 2,
       "version_minor": 0
      },
      "text/plain": [
       "HBox(children=(IntProgress(value=0, max=1), HTML(value='')))"
      ]
     },
     "metadata": {},
     "output_type": "display_data"
    },
    {
     "name": "stdout",
     "output_type": "stream",
     "text": [
      "[Iter-10 Loss-1.000]:\n",
      "  Validation: normalized_discounted_cumulative_gain@3(0.0): 0.2188 - normalized_discounted_cumulative_gain@5(0.0): 0.2188 - mean_average_precision(0.0): 0.2188\n",
      "\n",
      "Cost time: 3.2511348724365234s\n"
     ]
    }
   ],
   "source": [
    "optimizer = torch.optim.Adam(model.parameters(), lr = 3e-4)\n",
    "\n",
    "trainer = mz.trainers.Trainer(\n",
    "    model=model,\n",
    "    optimizer=optimizer,\n",
    "    trainloader=trainloader,\n",
    "    validloader=devloader,\n",
    "    validate_interval=None,\n",
    "    epochs=10\n",
    ")\n",
    "\n",
    "trainer.run()"
   ]
  },
  {
   "cell_type": "markdown",
   "metadata": {},
   "source": [
    "# Install"
   ]
  },
  {
   "cell_type": "markdown",
   "metadata": {},
   "source": [
    "由于mzcn是依赖于matchzoo-py模型，所以一共有两种途径安装mzcn"
   ]
  },
  {
   "cell_type": "markdown",
   "metadata": {},
   "source": [
    "### Install MatchZoo-py from Pypi:\n",
    "pip install mzcn"
   ]
  },
  {
   "cell_type": "markdown",
   "metadata": {},
   "source": [
    "### Install MatchZoo-py from the Github source:"
   ]
  },
  {
   "cell_type": "markdown",
   "metadata": {},
   "source": [
    "git clone https://github.com/yingdajun/mzcn.git\n",
    "<br>\n",
    "cd mzcn\n",
    "<br>\n",
    "python setup.py install"
   ]
  },
  {
   "cell_type": "markdown",
   "metadata": {},
   "source": [
    "# Citation"
   ]
  },
  {
   "cell_type": "markdown",
   "metadata": {},
   "source": [
    "本人是第一次写库包，水平有限，希望能给大家带来使用的帮助，如果有不足的地方请多指教\n",
    "这里是所有引用过的库包"
   ]
  },
  {
   "cell_type": "markdown",
   "metadata": {},
   "source": [
    "## matchzoo-py"
   ]
  },
  {
   "cell_type": "markdown",
   "metadata": {},
   "source": [
    "@inproceedings{Guo:2019:MLP:3331184.3331403,\n",
    " author = {Guo, Jiafeng and Fan, Yixing and Ji, Xiang and Cheng, Xueqi},\n",
    " title = {MatchZoo: A Learning, Practicing, and Developing System for Neural Text Matching},\n",
    " booktitle = {Proceedings of the 42Nd International ACM SIGIR Conference on Research and Development in Information Retrieval},\n",
    " series = {SIGIR'19},\n",
    " year = {2019},\n",
    " isbn = {978-1-4503-6172-9},\n",
    " location = {Paris, France},\n",
    " pages = {1297--1300},\n",
    " numpages = {4},\n",
    " url = {http://doi.acm.org/10.1145/3331184.3331403},\n",
    " doi = {10.1145/3331184.3331403},\n",
    " acmid = {3331403},\n",
    " publisher = {ACM},\n",
    " address = {New York, NY, USA},\n",
    " keywords = {matchzoo, neural network, text matching},\n",
    "} "
   ]
  },
  {
   "cell_type": "markdown",
   "metadata": {},
   "source": [
    "## CSDN的作者：SK-Berry的博文"
   ]
  },
  {
   "cell_type": "markdown",
   "metadata": {},
   "source": [
    "https://blog.csdn.net/sk_berry/article/details/104984599"
   ]
  }
 ],
 "metadata": {
  "kernelspec": {
   "display_name": "Python 3",
   "language": "python",
   "name": "python3"
  },
  "language_info": {
   "codemirror_mode": {
    "name": "ipython",
    "version": 3
   },
   "file_extension": ".py",
   "mimetype": "text/x-python",
   "name": "python",
   "nbconvert_exporter": "python",
   "pygments_lexer": "ipython3",
   "version": "3.6.3"
  }
 },
 "nbformat": 4,
 "nbformat_minor": 2
}
